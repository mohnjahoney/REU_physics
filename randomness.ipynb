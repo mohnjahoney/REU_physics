{
 "cells": [
  {
   "cell_type": "markdown",
   "metadata": {},
   "source": [
    "# Randomness ?and chaos?:\n",
    "\n",
    "Simpler:\n",
    "- Explore some random number generators in python\n",
    "- Numerically demonstrate relation between binomial and normal distributions\n",
    "\n",
    "Meso:\n",
    "- What is randomness? -> What metrics are there for detecting non/randomness?\n",
    "- Look at existing RNGs - do they measure up?\n",
    "- Construct your own RNG - how does it perform?\n",
    "- How do you construct uniform samplers on more interesting spaces?\n",
    "- Create a uniform sampler within a disk. \n",
    "\n",
    "Deep:\n",
    "- What is randomness?\n"
   ]
  },
  {
   "cell_type": "code",
   "execution_count": 316,
   "metadata": {},
   "outputs": [],
   "source": [
    "import numpy as np\n",
    "import matplotlib.pyplot as plt\n",
    "\n",
    "%load_ext pycodestyle_magic\n",
    "#%pycodestyle_on\n",
    "%pycodestyle_off\n",
    "\n",
    "%matplotlib inline"
   ]
  },
  {
   "cell_type": "code",
   "execution_count": 12,
   "metadata": {},
   "outputs": [
    {
     "name": "stdout",
     "output_type": "stream",
     "text": [
      "[2.19421404 2.1031248  2.87964596 2.37826987]\n",
      "[1.21388182 1.23713965 1.29025962 2.29177005]\n",
      "[1.65286181 2.298021   1.79738242 2.658407  ]\n",
      "[2.07490953 2.90372968 2.89631496 1.52950465]\n",
      "[2.3562589  1.14415533 1.97164564 1.03908798]\n"
     ]
    }
   ],
   "source": [
    "# TRY: Look through the np.random module and test a few sampling functions.\n",
    "for i in range(5):\n",
    "    # x = np.random.standard_normal(size=(3,))\n",
    "    # x = np.random.randint(low=2, high=8, size=(2,4))\n",
    "    x = np.random.uniform(1.0, 3.0, size=(4,))\n",
    "    print(x)"
   ]
  },
  {
   "cell_type": "code",
   "execution_count": 14,
   "metadata": {},
   "outputs": [
    {
     "data": {
      "image/png": "[encoded data removed]",
      "text/plain": [
       "<Figure size 432x288 with 1 Axes>"
      ]
     },
     "metadata": {
      "needs_background": "light"
     },
     "output_type": "display_data"
    },
    {
     "name": "stderr",
     "output_type": "stream",
     "text": [
      "11:80: E501 line too long (88 > 79 characters)\n",
      "11:80: E501 line too long (88 > 79 characters)\n"
     ]
    }
   ],
   "source": [
    "# TRY: Make a histogram using np.random.normal\n",
    "\n",
    "num = 10**3\n",
    "loc = 3.0\n",
    "scale = 2.0\n",
    "samples = np.random.normal(loc=loc, scale=scale, size=num)\n",
    "\n",
    "fig = plt.figure()\n",
    "ax = plt.gca()\n",
    "\n",
    "n, bins, patches = plt.hist(samples, bins=10, rwidth=0.9, density=True, cumulative=True)"
   ]
  },
  {
   "cell_type": "code",
   "execution_count": 15,
   "metadata": {},
   "outputs": [],
   "source": [
    "# Explore these return values\n",
    "# n\n",
    "# bins\n",
    "# patches"
   ]
  },
  {
   "cell_type": "code",
   "execution_count": 18,
   "metadata": {},
   "outputs": [],
   "source": [
    "# Flip a coin many times. Return the sequence of 'H' and 'T'.\n",
    "# Allow for \"unfairness\"\n",
    "def sample_coin(prob_heads=0.5, num=10):\n",
    "    # Return a list of coin flips, 'H' and 'T'.\n",
    "    uniforms = np.random.random(size=num)\n",
    "    coins = ['H' if u < prob_heads else 'T' for u in uniforms]\n",
    "    return coins\n",
    "\n",
    "\n",
    "def num_heads(prob_heads=0.5, num=10):\n",
    "    uniforms = np.random.random(size=num)\n",
    "    num_heads = np.sum(uniforms < prob_heads)\n",
    "    return num_heads"
   ]
  },
  {
   "cell_type": "code",
   "execution_count": 20,
   "metadata": {},
   "outputs": [
    {
     "data": {
      "text/plain": [
       "4"
      ]
     },
     "execution_count": 20,
     "metadata": {},
     "output_type": "execute_result"
    }
   ],
   "source": [
    "# sample_coin()\n",
    "num_heads()"
   ]
  },
  {
   "cell_type": "code",
   "execution_count": 31,
   "metadata": {},
   "outputs": [
    {
     "data": {
      "image/png": "[encoded data removed]",
      "text/plain": [
       "<Figure size 864x288 with 1 Axes>"
      ]
     },
     "metadata": {
      "needs_background": "light"
     },
     "output_type": "display_data"
    },
    {
     "name": "stderr",
     "output_type": "stream",
     "text": [
      "1:80: E501 line too long (92 > 79 characters)\n",
      "4:80: E501 line too long (100 > 79 characters)\n",
      "1:80: E501 line too long (92 > 79 characters)\n",
      "4:80: E501 line too long (100 > 79 characters)\n"
     ]
    }
   ],
   "source": [
    "# Over many samples, the number of \"heads\" is typically near num*prob_heads, but fluctuates.\n",
    "# TRY: Plot a histogram of this behavior.\n",
    "\n",
    "# NOTE: If you run this a dozen times, you will find cases where one of the largest bars disappears.\n",
    "# What's going on here?\n",
    "\n",
    "num_samples = 10**3\n",
    "flips_per_sample = 10\n",
    "prob_heads = 0.6\n",
    "\n",
    "num_Hs = []\n",
    "\n",
    "for ind in range(num_samples):\n",
    "    x = num_heads(prob_heads=prob_heads, num=flips_per_sample)\n",
    "    num_Hs.append(x)\n",
    "\n",
    "fig = plt.figure(figsize=(12, 4))\n",
    "ax = plt.gca()\n",
    "\n",
    "n, bins, patches = plt.hist(num_Hs, bins=10, rwidth=0.9, density=True)\n",
    "\n",
    "# bin_edges = [x - 0.5 for x in range(flips_per_sample + 2)]\n",
    "# n, bins, patches = plt.hist(num_Hs, bins=bin_edges, rwidth=0.9, density=True)\n",
    "\n",
    "# ax.set_xticks(range(flips_per_sample + 1));"
   ]
  },
  {
   "cell_type": "code",
   "execution_count": 80,
   "metadata": {},
   "outputs": [
    {
     "data": {
      "text/plain": [
       "<matplotlib.legend.Legend at 0x1158fc048>"
      ]
     },
     "execution_count": 80,
     "metadata": {},
     "output_type": "execute_result"
    },
    {
     "data": {
      "image/png": "[encoded data removed]",
      "text/plain": [
       "<Figure size 864x288 with 1 Axes>"
      ]
     },
     "metadata": {
      "needs_background": "light"
     },
     "output_type": "display_data"
    },
    {
     "name": "stderr",
     "output_type": "stream",
     "text": [
      "19:80: E501 line too long (122 > 79 characters)\n",
      "22:80: E501 line too long (114 > 79 characters)\n",
      "19:80: E501 line too long (122 > 79 characters)\n",
      "22:80: E501 line too long (114 > 79 characters)\n"
     ]
    }
   ],
   "source": [
    "# This is a roundabout way of drawing from a binomial distribution.\n",
    "# Compare\n",
    "\n",
    "num_samples = 10**3\n",
    "flips_per_sample = 10\n",
    "prob_heads = 0.6\n",
    "\n",
    "num_Hs = []\n",
    "\n",
    "for ind in range(num_samples):\n",
    "    x = num_heads(prob_heads=prob_heads, num=flips_per_sample)\n",
    "    num_Hs.append(x)\n",
    "\n",
    "binom_Hs = np.random.binomial(flips_per_sample, prob_heads, num_samples)\n",
    "\n",
    "fig = plt.figure(figsize=(12, 4))\n",
    "ax = plt.gca()\n",
    "\n",
    "# plt.hist([num_Hs, binomial_Hs], bins=10, rwidth=0.9, density=True, color=['r', 'b'], alpha=0.5, label=['coin', 'binom'])\n",
    "\n",
    "bin_edges = [x - 0.5 for x in range(flips_per_sample + 2)]\n",
    "n, bins, patches = plt.hist([num_Hs, binom_Hs], bins=bin_edges, rwidth=0.9, density=True, label=['coin', 'binom'])\n",
    "\n",
    "ax.set_xticks(range(flips_per_sample + 1))\n",
    "\n",
    "plt.legend()"
   ]
  },
  {
   "cell_type": "code",
   "execution_count": 181,
   "metadata": {},
   "outputs": [
    {
     "data": {
      "text/plain": [
       "<matplotlib.legend.Legend at 0x1316bdd30>"
      ]
     },
     "execution_count": 181,
     "metadata": {},
     "output_type": "execute_result"
    },
    {
     "data": {
      "image/png": "[encoded data removed]",
      "text/plain": [
       "<Figure size 864x576 with 2 Axes>"
      ]
     },
     "metadata": {
      "needs_background": "light"
     },
     "output_type": "display_data"
    },
    {
     "name": "stderr",
     "output_type": "stream",
     "text": [
      "1:80: E501 line too long (109 > 79 characters)\n",
      "26:80: E501 line too long (87 > 79 characters)\n",
      "1:80: E501 line too long (109 > 79 characters)\n",
      "26:80: E501 line too long (87 > 79 characters)\n"
     ]
    }
   ],
   "source": [
    "# Further, as the number of flips per event becomes large, the distribution approaches a normal distribution.\n",
    "# Compare / fit the normal.\n",
    "\n",
    "import scipy.stats as stats\n",
    "\n",
    "num_samples = 10**5\n",
    "flips_per_sample = 20\n",
    "prob_heads = 0.5\n",
    "\n",
    "event_space = range(flips_per_sample + 1)\n",
    "\n",
    "# TRY: Find values for `mean' and `std' that complete the fit.\n",
    "mean = prob_heads * flips_per_sample\n",
    "std = flips_per_sample**0.5 / 2\n",
    "normal_Hs = stats.norm.pdf(event_space, loc=mean, scale=std)\n",
    "# This is an object oriented way to work with random variables - nicer overall.\n",
    "# normal_rv = stats.norm(loc=mean, scale=std)\n",
    "# normal_Hs = normal_rv.pdf(event_space)\n",
    "\n",
    "binom_Hs = np.random.binomial(flips_per_sample, prob_heads, num_samples)\n",
    "# binom_rv = stats.binom(n=flips_per_sample, p=prob_heads)\n",
    "# binom_Hs = binom_rv.pmf(k=event_space)\n",
    "\n",
    "fig, ax = plt.subplots(nrows=2, ncols=1, figsize=(12, 8))\n",
    "\n",
    "bin_edges = [x - 0.5 for x in range(flips_per_sample + 2)]\n",
    "n, _, _ = ax[0].hist(binom_Hs, bins=bin_edges, rwidth=0.9, density=True, label='binom')\n",
    "\n",
    "# ax[0].plot(event_space, binom_Hs, 'b', label='binom')\n",
    "ax[0].plot(event_space, normal_Hs, 'r', label='normal')\n",
    "\n",
    "ax[1].plot(event_space, n - normal_Hs, 'r', label='diff')\n",
    "# ax[1].plot(event_space, binom_Hs - normal_Hs, 'r', label='diff')\n",
    "\n",
    "# ax[1].vlines(binom_rv.mean(), 0, 0.001, 'b')\n",
    "# ax[1].vlines(normal_rv.mean(),0, 0.001, 'r')\n",
    "\n",
    "# This makes things a little slow with lots of tick labels.\n",
    "ax[0].set_xticks(event_space)\n",
    "ax[1].set_xticks(event_space)\n",
    "\n",
    "ax[0].legend()\n",
    "ax[1].legend()"
   ]
  },
  {
   "cell_type": "code",
   "execution_count": 182,
   "metadata": {},
   "outputs": [
    {
     "name": "stderr",
     "output_type": "stream",
     "text": [
      "2:80: W291 trailing whitespace\n",
      "7:80: E501 line too long (116 > 79 characters)\n",
      "2:80: W291 trailing whitespace\n",
      "7:80: E501 line too long (116 > 79 characters)\n"
     ]
    }
   ],
   "source": [
    "# In the above comparison of binomial to normal:\n",
    "# It is interesting to see how the difference depends on the number of samples. \n",
    "# Is it becoming flatter?\n",
    "# Is it becoming smoother?\n",
    "# What is the limiting behavior?\n",
    "# How many samples do you need to see a really nice looking relationship?\n",
    "# Now switch to the analytic form for the binomial distribution and compare the two mathematical functions directly.\n",
    "# How do they compare? means? max diff?\n",
    "# What happens when the probability of Heads is not 0.5?"
   ]
  },
  {
   "cell_type": "markdown",
   "metadata": {},
   "source": [
    "# Let's write our own random sampler / random number generator (RNG)."
   ]
  },
  {
   "cell_type": "code",
   "execution_count": 265,
   "metadata": {},
   "outputs": [
    {
     "data": {
      "text/plain": [
       "[<matplotlib.lines.Line2D at 0x1347730f0>]"
      ]
     },
     "execution_count": 265,
     "metadata": {},
     "output_type": "execute_result"
    },
    {
     "data": {
      "image/png": "[encoded data removed]",
      "text/plain": [
       "<Figure size 432x288 with 1 Axes>"
      ]
     },
     "metadata": {
      "needs_background": "light"
     },
     "output_type": "display_data"
    }
   ],
   "source": [
    "# This function looks pretty random - can we turn it into a good RNG?\n",
    "xs = np.linspace(1, 10, 100)\n",
    "ys = np.sin(12345 / xs)\n",
    "\n",
    "plt.plot(xs, ys)"
   ]
  },
  {
   "cell_type": "code",
   "execution_count": 274,
   "metadata": {},
   "outputs": [
    {
     "name": "stderr",
     "output_type": "stream",
     "text": [
      "2:80: E501 line too long (101 > 79 characters)\n",
      "2:80: E501 line too long (101 > 79 characters)\n"
     ]
    }
   ],
   "source": [
    "def my_rng(low=0, high=1, num=10, seed=12345):\n",
    "    # Return a list of `num' integers between `low' and `high' inclusive with a uniform distribution.\n",
    "    # The output should depend on the `seed'.\n",
    "    # Don't use any packages and try to do this without any references.\n",
    "\n",
    "    rns = []\n",
    "    for i in range(num):\n",
    "        x = np.sin(seed / (i + 1))\n",
    "        x *= (high - low) / 2\n",
    "        x += high / 2\n",
    "        x = np.around(x)\n",
    "        rns.append(x)\n",
    "\n",
    "    return rns"
   ]
  },
  {
   "cell_type": "code",
   "execution_count": 277,
   "metadata": {},
   "outputs": [
    {
     "data": {
      "text/plain": [
       "(array([31., 23., 20., 26.]),\n",
       " array([-0.5,  0.5,  1.5,  2.5,  3.5]),\n",
       " <a list of 4 Patch objects>)"
      ]
     },
     "execution_count": 277,
     "metadata": {},
     "output_type": "execute_result"
    },
    {
     "data": {
      "image/png": "[encoded data removed]",
      "text/plain": [
       "<Figure size 432x288 with 1 Axes>"
      ]
     },
     "metadata": {
      "needs_background": "light"
     },
     "output_type": "display_data"
    }
   ],
   "source": [
    "low = 0\n",
    "high = 3\n",
    "num = 100\n",
    "\n",
    "rns = my_rng(low=low, high=high, num=num)\n",
    "\n",
    "plt.hist(rns, bins=np.arange(low, high + 2) - 0.5, rwidth=0.9)\n",
    "\n",
    "# plt.scatter(range(len(rns)), rns)"
   ]
  },
  {
   "cell_type": "code",
   "execution_count": null,
   "metadata": {},
   "outputs": [],
   "source": [
    "# Does this look like a good RNG to you?\n",
    "# TRY: Can you fix it up to make it better?"
   ]
  },
  {
   "cell_type": "markdown",
   "metadata": {},
   "source": [
    "# Metrics for detecting randomness"
   ]
  },
  {
   "cell_type": "code",
   "execution_count": 317,
   "metadata": {},
   "outputs": [],
   "source": [
    "# Moments\n",
    "def moment_1(data):\n",
    "    # This is the expectation value\n",
    "    values, counts = np.unique(data, return_counts=True)\n",
    "    return np.dot(values, counts) / len(data)\n",
    "\n",
    "\n",
    "def moment_n(data, n):\n",
    "    values, counts = np.unique(data, return_counts=True)\n",
    "    return np.dot(values**n, counts) / len(data)"
   ]
  },
  {
   "cell_type": "code",
   "execution_count": 318,
   "metadata": {},
   "outputs": [],
   "source": [
    "low = 0\n",
    "high = 3\n",
    "num = 100\n",
    "\n",
    "rns = my_rng(low=low, high=high, num=num)\n",
    "print(rns)\n",
    "moment_1(data=rns)\n",
    "\n",
    "for n in range(1, 6):\n",
    "    print(moment_n(data=rns, n=mom))"
   ]
  },
  {
   "cell_type": "code",
   "execution_count": 319,
   "metadata": {},
   "outputs": [
    {
     "name": "stderr",
     "output_type": "stream",
     "text": [
      "2:22: W291 trailing whitespace\n",
      "3:80: E501 line too long (89 > 79 characters)\n",
      "4:1: W391 blank line at end of file\n"
     ]
    }
   ],
   "source": [
    "# At a minimum, we'd like the histogram of discrete outputs to be pretty flat.\n",
    "# But is that enough? \n",
    "# TRY: Devise a RNG that has a very very flat histogram that is arguably not very random.\n"
   ]
  },
  {
   "cell_type": "code",
   "execution_count": 308,
   "metadata": {},
   "outputs": [],
   "source": [
    "values, counts = np.unique(rns, return_counts=True)"
   ]
  },
  {
   "cell_type": "code",
   "execution_count": 309,
   "metadata": {},
   "outputs": [
    {
     "data": {
      "text/plain": [
       "array([0., 1., 2., 3.])"
      ]
     },
     "execution_count": 309,
     "metadata": {},
     "output_type": "execute_result"
    }
   ],
   "source": [
    "values"
   ]
  },
  {
   "cell_type": "code",
   "execution_count": 310,
   "metadata": {},
   "outputs": [
    {
     "data": {
      "text/plain": [
       "array([31, 23, 20, 26])"
      ]
     },
     "execution_count": 310,
     "metadata": {},
     "output_type": "execute_result"
    }
   ],
   "source": [
    "counts"
   ]
  },
  {
   "cell_type": "code",
   "execution_count": null,
   "metadata": {},
   "outputs": [],
   "source": []
  }
 ],
 "metadata": {
  "kernelspec": {
   "display_name": "Python 3",
   "language": "python",
   "name": "python3"
  },
  "language_info": {
   "codemirror_mode": {
    "name": "ipython",
    "version": 3
   },
   "file_extension": ".py",
   "mimetype": "text/x-python",
   "name": "python",
   "nbconvert_exporter": "python",
   "pygments_lexer": "ipython3",
   "version": "3.6.4"
  }
 },
 "nbformat": 4,
 "nbformat_minor": 2
}
