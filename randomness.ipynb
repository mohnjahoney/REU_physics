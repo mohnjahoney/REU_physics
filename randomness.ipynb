{
 "cells": [
  {
   "cell_type": "markdown",
   "metadata": {},
   "source": [
    "# Randomness ?and chaos?:\n",
    "\n",
    "Simpler:\n",
    "- Explore some random number generators in python\n",
    "- Numerically demonstrate relation between binomial and normal distributions\n",
    "- Discuss utility of generators in python\n",
    "\n",
    "Meso:\n",
    "- What is randomness? -> What metrics are there for detecting non/randomness?\n",
    "- Look at existing RNGs - do they measure up?\n",
    "- Construct your own RNG - how does it perform?\n",
    "- How do you construct uniform samplers on more interesting spaces?\n",
    "- Create a uniform sampler within a disk. \n",
    "\n",
    "Deep:\n",
    "- What is randomness?\n"
   ]
  },
  {
   "cell_type": "code",
   "execution_count": 1,
   "metadata": {},
   "outputs": [],
   "source": [
    "import numpy as np\n",
    "import matplotlib.pyplot as plt\n",
    "\n",
    "%matplotlib inline"
   ]
  },
  {
   "cell_type": "code",
   "execution_count": 6,
   "metadata": {},
   "outputs": [
    {
     "name": "stdout",
     "output_type": "stream",
     "text": [
      "[1.7247512  1.20909344 2.83586327 2.33009278]\n",
      "[1.95084703 2.63193565 1.85748011 1.40857404]\n",
      "[2.609291   2.81231738 2.890129   2.49619177]\n",
      "[1.01389753 2.09628208 1.87022822 2.61553615]\n",
      "[1.3880583  1.26533178 2.66485182 2.66587744]\n"
     ]
    }
   ],
   "source": [
    "# TRY: Look through the np.random module and test a few random sampling functions.\n",
    "for i in range(5):\n",
    "    \n",
    "#     x = np.random.standard_normal(size=(3,))\n",
    "#     x = np.random.randint(low=2, high=8, size=(2,4))\n",
    "    x = np.random.uniform(1.0, 3.0, size=(4,))\n",
    "    print(x)"
   ]
  },
  {
   "cell_type": "code",
   "execution_count": 26,
   "metadata": {},
   "outputs": [
    {
     "data": {
      "image/png": "[encoded data removed]",
      "text/plain": [
       "<Figure size 432x288 with 1 Axes>"
      ]
     },
     "metadata": {
      "needs_background": "light"
     },
     "output_type": "display_data"
    }
   ],
   "source": [
    "# TRY: Make a histogram using np.random.normal\n",
    "\n",
    "num = 10**3\n",
    "loc = 3.0\n",
    "scale = 2.0 \n",
    "samples = np.random.normal(loc=loc, scale=scale, size=num)\n",
    "\n",
    "fig = plt.figure()\n",
    "ax = plt.gca()\n",
    "\n",
    "n, bins, patches = plt.hist(samples, bins=10, rwidth=0.9, density=True, cumulative=True)"
   ]
  },
  {
   "cell_type": "code",
   "execution_count": 27,
   "metadata": {},
   "outputs": [
    {
     "data": {
      "text/plain": [
       "array([0.003, 0.015, 0.058, 0.178, 0.4  , 0.606, 0.82 , 0.933, 0.988,\n",
       "       1.   ])"
      ]
     },
     "execution_count": 27,
     "metadata": {},
     "output_type": "execute_result"
    }
   ],
   "source": [
    "# Explore these return values\n",
    "# n\n",
    "# bins\n",
    "# patches"
   ]
  },
  {
   "cell_type": "code",
   "execution_count": 45,
   "metadata": {},
   "outputs": [],
   "source": [
    "# Flip a coin many times. Return the sequence of 'H' and 'T'.\n",
    "# Allow for \"unfairness\"\n",
    "\n",
    "def sample_coin(prob_heads=0.5, num=10):\n",
    "    # Return a list of coin flips, 'H' and 'T'.\n",
    "    uniforms = np.random.random(size=num)\n",
    "    coins = ['H' if u < prob_heads else 'T' for u in uniforms]\n",
    "    return coins\n",
    "\n",
    "def num_heads(prob_heads=0.5, num=10):\n",
    "    uniforms = np.random.random(size=num)\n",
    "    num_heads = np.sum(uniforms < prob_heads)\n",
    "    return num_heads"
   ]
  },
  {
   "cell_type": "code",
   "execution_count": 44,
   "metadata": {},
   "outputs": [
    {
     "data": {
      "text/plain": [
       "5"
      ]
     },
     "execution_count": 44,
     "metadata": {},
     "output_type": "execute_result"
    }
   ],
   "source": [
    "#sample_coin()\n",
    "num_heads()"
   ]
  },
  {
   "cell_type": "code",
   "execution_count": 80,
   "metadata": {},
   "outputs": [
    {
     "data": {
      "image/png": "[encoded data removed]",
      "text/plain": [
       "<Figure size 864x288 with 1 Axes>"
      ]
     },
     "metadata": {
      "needs_background": "light"
     },
     "output_type": "display_data"
    }
   ],
   "source": [
    "# Over many samples, the number of \"heads\" is typically near num*prob_heads, but fluctuates.\n",
    "# TRY: Plot a histogram of this behavior.\n",
    "\n",
    "# NOTE: If you run this a dozen times, you will find cases where one of the largest bars disappears - what's going on here?\n",
    "\n",
    "num_samples = 10**4\n",
    "flips_per_sample = 40\n",
    "prob_heads = 0.6\n",
    "\n",
    "num_Hs = []\n",
    "\n",
    "for ind in range(num_samples):\n",
    "    x = num_heads(prob_heads=prob_heads, num=flips_per_sample)\n",
    "    num_Hs.append(x)\n",
    "    \n",
    "fig = plt.figure(figsize=(12, 4))\n",
    "ax = plt.gca()\n",
    "\n",
    "n, bins, patches = plt.hist(num_Hs, bins=40, rwidth=0.9, density=True)\n",
    "\n",
    "# bin_edges = [x - 0.5 for x in range(flips_per_sample + 2)]\n",
    "# n, bins, patches = plt.hist(num_Hs, bins=bin_edges, rwidth=0.9, density=True)\n",
    "\n",
    "ax.set_xticks(range(flips_per_sample + 1));"
   ]
  },
  {
   "cell_type": "code",
   "execution_count": 64,
   "metadata": {},
   "outputs": [
    {
     "data": {
      "text/plain": [
       "[-0.5, 0.5, 1.5, 2.5, 3.5, 4.5, 5.5, 6.5, 7.5, 8.5, 9.5, 10.5]"
      ]
     },
     "execution_count": 64,
     "metadata": {},
     "output_type": "execute_result"
    }
   ],
   "source": [
    "edges"
   ]
  },
  {
   "cell_type": "code",
   "execution_count": null,
   "metadata": {},
   "outputs": [],
   "source": []
  },
  {
   "cell_type": "code",
   "execution_count": null,
   "metadata": {},
   "outputs": [],
   "source": []
  },
  {
   "cell_type": "code",
   "execution_count": null,
   "metadata": {},
   "outputs": [],
   "source": []
  }
 ],
 "metadata": {
  "kernelspec": {
   "display_name": "Python 3",
   "language": "python",
   "name": "python3"
  },
  "language_info": {
   "codemirror_mode": {
    "name": "ipython",
    "version": 3
   },
   "file_extension": ".py",
   "mimetype": "text/x-python",
   "name": "python",
   "nbconvert_exporter": "python",
   "pygments_lexer": "ipython3",
   "version": "3.6.4"
  }
 },
 "nbformat": 4,
 "nbformat_minor": 2
}
