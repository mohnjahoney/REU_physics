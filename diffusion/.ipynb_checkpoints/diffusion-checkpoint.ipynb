{
 "cells": [
  {
   "cell_type": "markdown",
   "metadata": {},
   "source": [
    "# Diffusion\n",
    "\n",
    "In this notebook you will:\n",
    "- Analyze one-dimensional diffusion\n",
    "- Evolve a delta function initial condition\n",
    "- Compare with analytic solution\n",
    "- Investigate position-dependent diffusion constant: e.g. $D = D_0 \\exp(- |x| / \\lambda)$\n",
    "- Try to solve this new problem analytically\n",
    "\n",
    "In a nutshell:\n",
    "- ...\n",
    "\n",
    "For the future:\n",
    "- ...\n",
    "\n",
    "Resources:\n",
    "- ..."
   ]
  },
  {
   "cell_type": "code",
   "execution_count": 2,
   "metadata": {},
   "outputs": [],
   "source": [
    "import numpy as np\n",
    "import matplotlib.pyplot as plt\n",
    "\n",
    "%matplotlib inline"
   ]
  },
  {
   "cell_type": "markdown",
   "metadata": {},
   "source": [
    "# $\\frac{\\partial C}{\\partial t} = D \\frac{\\partial^2 C}{\\partial^2 x}$"
   ]
  },
  {
   "cell_type": "code",
   "execution_count": null,
   "metadata": {},
   "outputs": [],
   "source": []
  },
  {
   "cell_type": "code",
   "execution_count": null,
   "metadata": {},
   "outputs": [],
   "source": []
  },
  {
   "cell_type": "code",
   "execution_count": null,
   "metadata": {},
   "outputs": [],
   "source": []
  },
  {
   "cell_type": "markdown",
   "metadata": {},
   "source": [
    "# $\\frac{\\partial C}{\\partial t} = \\frac{\\partial}{\\partial x}(D \\frac{\\partial C}{\\partial x})$"
   ]
  }
 ],
 "metadata": {
  "kernelspec": {
   "display_name": "Python 3",
   "language": "python",
   "name": "python3"
  },
  "language_info": {
   "codemirror_mode": {
    "name": "ipython",
    "version": 3
   },
   "file_extension": ".py",
   "mimetype": "text/x-python",
   "name": "python",
   "nbconvert_exporter": "python",
   "pygments_lexer": "ipython3",
   "version": "3.6.4"
  }
 },
 "nbformat": 4,
 "nbformat_minor": 2
}
